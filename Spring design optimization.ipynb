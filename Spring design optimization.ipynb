{
 "cells": [
  {
   "cell_type": "code",
   "execution_count": 11,
   "id": "40dce39d-07d4-4df2-8875-e60fb04f489d",
   "metadata": {},
   "outputs": [
    {
     "name": "stdout",
     "output_type": "stream",
     "text": [
      "Best Design Parameters (D, d, N): [5.e-02 1.e-03 8.e+00]\n",
      "Minimum Spring Weight: 2.5000000000000005e-05\n"
     ]
    }
   ],
   "source": [
    "import numpy as np\n",
    "\n",
    "def spring_weight(x):\n",
    "    D, d, N = x\n",
    "    N = int(round(N))\n",
    "    if D < 0.05 or D > 2 or d < 0.001 or d > 0.1 or N < 3 or N > 15:\n",
    "        return 1e9\n",
    "    weight = (N + 2) * D**2 * d\n",
    "    if np.iscomplex(weight):\n",
    "        print(f\"Complex weight! D={D}, d={d}, N={N}, weight={weight}\")\n",
    "    return weight.real\n",
    "\n",
    "def cuckoo_search(n=15, pa=0.25, iterations=100):\n",
    "    nests = np.random.rand(n, 3)\n",
    "    bounds = np.array([[0.05, 2.0], [0.001, 0.1], [3, 15]])\n",
    "    for i in range(3):\n",
    "        nests[:, i] = bounds[i, 0] + nests[:, i] * (bounds[i, 1] - bounds[i, 0])\n",
    "    nests[:, 2] = np.round(nests[:, 2])\n",
    "    nests = nests.astype(float)\n",
    "\n",
    "    fitness = np.array([spring_weight(x) for x in nests])\n",
    "    best = nests[np.argmin(fitness)]\n",
    "\n",
    "    for it in range(iterations):\n",
    "        new_nests = nests + np.random.randn(*nests.shape) * 0.1\n",
    "        new_nests = new_nests.astype(float)\n",
    "        \n",
    "        for i in range(3):\n",
    "            new_nests[:, i] = np.clip(new_nests[:, i], bounds[i, 0], bounds[i, 1])\n",
    "        new_nests[:, 2] = np.round(new_nests[:, 2])\n",
    "\n",
    "        if np.iscomplexobj(new_nests) or np.iscomplexobj(nests):\n",
    "            print(\"Complex numbers detected in nests arrays!\")\n",
    "\n",
    "        new_fitness = np.array([spring_weight(x) for x in new_nests])\n",
    "\n",
    "        for i in range(n):\n",
    "            j = np.random.randint(0, n)\n",
    "            if new_fitness[i] < fitness[j]:\n",
    "                nests[j] = new_nests[i]\n",
    "                fitness[j] = new_fitness[i]\n",
    "\n",
    "        abandon = np.random.rand(n) < pa\n",
    "        for i in range(3):\n",
    "            nests[abandon, i] = bounds[i, 0] + np.random.rand(np.sum(abandon)) * (bounds[i, 1] - bounds[i, 0])\n",
    "        nests[abandon, 2] = np.round(nests[abandon, 2])\n",
    "\n",
    "        fitness[abandon] = [spring_weight(x) for x in nests[abandon]]\n",
    "\n",
    "        best = nests[np.argmin(fitness)]\n",
    "\n",
    "    return best, spring_weight(best)\n",
    "\n",
    "best, best_val = cuckoo_search()\n",
    "print(\"Best Design Parameters (D, d, N):\", best)\n",
    "print(\"Minimum Spring Weight:\", best_val)\n",
    "\n"
   ]
  },
  {
   "cell_type": "code",
   "execution_count": null,
   "id": "e8e25ad6-d32e-46ec-bdde-c0d7a3b11682",
   "metadata": {},
   "outputs": [],
   "source": []
  }
 ],
 "metadata": {
  "kernelspec": {
   "display_name": "Python 3 (ipykernel)",
   "language": "python",
   "name": "python3"
  },
  "language_info": {
   "codemirror_mode": {
    "name": "ipython",
    "version": 3
   },
   "file_extension": ".py",
   "mimetype": "text/x-python",
   "name": "python",
   "nbconvert_exporter": "python",
   "pygments_lexer": "ipython3",
   "version": "3.13.5"
  }
 },
 "nbformat": 4,
 "nbformat_minor": 5
}
